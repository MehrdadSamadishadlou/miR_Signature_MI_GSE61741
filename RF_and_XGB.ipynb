{
  "nbformat": 4,
  "nbformat_minor": 0,
  "metadata": {
    "colab": {
      "name": "RF and XGB.ipynb",
      "provenance": []
    },
    "kernelspec": {
      "name": "python3",
      "display_name": "Python 3"
    },
    "language_info": {
      "name": "python"
    },
    "accelerator": "GPU"
  },
  "cells": [
    {
      "cell_type": "code",
      "execution_count": 1,
      "metadata": {
        "id": "_LM6G5cjDyRK"
      },
      "outputs": [],
      "source": [
        "import pandas as pd\n",
        "import numpy as np\n",
        "import seaborn as sns\n",
        "import matplotlib.pyplot as plt\n",
        "from sklearn import metrics\n",
        "from sklearn.model_selection import train_test_split\n",
        "from sklearn.ensemble import RandomForestClassifier\n",
        "from sklearn.model_selection import GridSearchCV\n",
        "from sklearn.model_selection import cross_val_score"
      ]
    },
    {
      "cell_type": "code",
      "source": [
        "df=pd.read_csv('DEMs_exp.csv')\n",
        "\n",
        "df['SD'][df['SD'] == 3] = 0\n",
        "\n",
        "df.index = df['Unnamed: 0']\n",
        "df.drop('Unnamed: 0', axis=1, inplace=True)"
      ],
      "metadata": {
        "colab": {
          "base_uri": "https://localhost:8080/"
        },
        "id": "jfUNG5DMFFja",
        "outputId": "f78d46c3-89aa-4d9d-9840-9b4ac014593c"
      },
      "execution_count": 2,
      "outputs": [
        {
          "output_type": "stream",
          "name": "stderr",
          "text": [
            "/usr/local/lib/python3.7/dist-packages/ipykernel_launcher.py:3: SettingWithCopyWarning: \n",
            "A value is trying to be set on a copy of a slice from a DataFrame\n",
            "\n",
            "See the caveats in the documentation: https://pandas.pydata.org/pandas-docs/stable/user_guide/indexing.html#returning-a-view-versus-a-copy\n",
            "  This is separate from the ipykernel package so we can avoid doing imports until\n"
          ]
        }
      ]
    },
    {
      "cell_type": "code",
      "source": [
        "df.head()"
      ],
      "metadata": {
        "colab": {
          "base_uri": "https://localhost:8080/",
          "height": 383
        },
        "id": "mUU4_QWWHcVn",
        "outputId": "4e37afdc-a0c2-41e9-e4ac-5fa578c015bc"
      },
      "execution_count": 6,
      "outputs": [
        {
          "output_type": "execute_result",
          "data": {
            "text/html": [
              "\n",
              "  <div id=\"df-3b8251cd-1059-4576-8f84-f3e92dda1b9f\">\n",
              "    <div class=\"colab-df-container\">\n",
              "      <div>\n",
              "<style scoped>\n",
              "    .dataframe tbody tr th:only-of-type {\n",
              "        vertical-align: middle;\n",
              "    }\n",
              "\n",
              "    .dataframe tbody tr th {\n",
              "        vertical-align: top;\n",
              "    }\n",
              "\n",
              "    .dataframe thead th {\n",
              "        text-align: right;\n",
              "    }\n",
              "</style>\n",
              "<table border=\"1\" class=\"dataframe\">\n",
              "  <thead>\n",
              "    <tr style=\"text-align: right;\">\n",
              "      <th></th>\n",
              "      <th>hsa-miR-375</th>\n",
              "      <th>hsa-miR-29c*</th>\n",
              "      <th>hsa-miR-1258</th>\n",
              "      <th>hsa-miR-132*</th>\n",
              "      <th>hsa-miR-142-3p</th>\n",
              "      <th>hsa-miR-520c-3p</th>\n",
              "      <th>hsa-miR-302b</th>\n",
              "      <th>hsa-miR-204</th>\n",
              "      <th>hsa-miR-1468</th>\n",
              "      <th>hsa-miR-576-5p</th>\n",
              "      <th>hsa-miR-601</th>\n",
              "      <th>hsa-miR-609</th>\n",
              "      <th>hsa-miR-154</th>\n",
              "      <th>hsa-miR-508-3p</th>\n",
              "      <th>hsa-miR-942</th>\n",
              "      <th>hsa-miR-302d</th>\n",
              "      <th>hsa-miR-135b</th>\n",
              "      <th>hsa-miR-522</th>\n",
              "      <th>hsa-miR-488</th>\n",
              "      <th>hsa-miR-1262</th>\n",
              "      <th>hsa-miR-126*</th>\n",
              "      <th>hsa-miR-373</th>\n",
              "      <th>hsa-miR-483-3p</th>\n",
              "      <th>hsa-miR-133a</th>\n",
              "      <th>hsa-miR-190b</th>\n",
              "      <th>hsa-miR-598</th>\n",
              "      <th>hsa-miR-199b-5p</th>\n",
              "      <th>hsa-miR-1282</th>\n",
              "      <th>hsa-miR-1825</th>\n",
              "      <th>hsa-miR-130b*</th>\n",
              "      <th>hsa-miR-578</th>\n",
              "      <th>hsa-miR-520f</th>\n",
              "      <th>hsa-miR-26a-2*</th>\n",
              "      <th>hsa-miR-450a</th>\n",
              "      <th>hsa-miR-29b-1*</th>\n",
              "      <th>hsa-miR-615-3p</th>\n",
              "      <th>hsa-miR-892b</th>\n",
              "      <th>hsa-miR-1290</th>\n",
              "      <th>hsa-miR-556-3p</th>\n",
              "      <th>hsa-miR-98</th>\n",
              "      <th>...</th>\n",
              "      <th>hsa-miR-454*</th>\n",
              "      <th>hsa-miR-613</th>\n",
              "      <th>hsa-miR-302a</th>\n",
              "      <th>hsa-miR-376a*</th>\n",
              "      <th>hsa-miR-9</th>\n",
              "      <th>hsa-miR-520d-3p</th>\n",
              "      <th>hsa-miR-455-5p</th>\n",
              "      <th>hsa-miR-515-5p</th>\n",
              "      <th>hsa-miR-31*</th>\n",
              "      <th>hsa-miR-488*</th>\n",
              "      <th>hsa-miR-200a</th>\n",
              "      <th>hsa-miR-489</th>\n",
              "      <th>hsa-miR-1283</th>\n",
              "      <th>hsa-miR-566</th>\n",
              "      <th>hsa-miR-455-3p</th>\n",
              "      <th>hsa-miR-646</th>\n",
              "      <th>hsa-miR-519b-5p</th>\n",
              "      <th>hsa-miR-1245</th>\n",
              "      <th>hsa-miR-1291</th>\n",
              "      <th>hsa-miR-155*</th>\n",
              "      <th>hsa-miR-31</th>\n",
              "      <th>hsa-miR-518a-5p</th>\n",
              "      <th>hsa-miR-21*</th>\n",
              "      <th>hsa-miR-564</th>\n",
              "      <th>hsa-miR-933</th>\n",
              "      <th>hsa-miR-589</th>\n",
              "      <th>hsa-miR-545*</th>\n",
              "      <th>hsa-miR-520d-5p</th>\n",
              "      <th>hsa-miR-518d-5p</th>\n",
              "      <th>hsa-miR-96*</th>\n",
              "      <th>hsa-miR-136*</th>\n",
              "      <th>hsa-miR-491-3p</th>\n",
              "      <th>hsa-miR-568</th>\n",
              "      <th>hsa-miR-450b-5p</th>\n",
              "      <th>hsa-miR-556-5p</th>\n",
              "      <th>hsa-miR-10b*</th>\n",
              "      <th>hsa-miR-298</th>\n",
              "      <th>hsa-miR-889</th>\n",
              "      <th>hsa-miR-518d-3p</th>\n",
              "      <th>SD</th>\n",
              "    </tr>\n",
              "    <tr>\n",
              "      <th>Unnamed: 0</th>\n",
              "      <th></th>\n",
              "      <th></th>\n",
              "      <th></th>\n",
              "      <th></th>\n",
              "      <th></th>\n",
              "      <th></th>\n",
              "      <th></th>\n",
              "      <th></th>\n",
              "      <th></th>\n",
              "      <th></th>\n",
              "      <th></th>\n",
              "      <th></th>\n",
              "      <th></th>\n",
              "      <th></th>\n",
              "      <th></th>\n",
              "      <th></th>\n",
              "      <th></th>\n",
              "      <th></th>\n",
              "      <th></th>\n",
              "      <th></th>\n",
              "      <th></th>\n",
              "      <th></th>\n",
              "      <th></th>\n",
              "      <th></th>\n",
              "      <th></th>\n",
              "      <th></th>\n",
              "      <th></th>\n",
              "      <th></th>\n",
              "      <th></th>\n",
              "      <th></th>\n",
              "      <th></th>\n",
              "      <th></th>\n",
              "      <th></th>\n",
              "      <th></th>\n",
              "      <th></th>\n",
              "      <th></th>\n",
              "      <th></th>\n",
              "      <th></th>\n",
              "      <th></th>\n",
              "      <th></th>\n",
              "      <th></th>\n",
              "      <th></th>\n",
              "      <th></th>\n",
              "      <th></th>\n",
              "      <th></th>\n",
              "      <th></th>\n",
              "      <th></th>\n",
              "      <th></th>\n",
              "      <th></th>\n",
              "      <th></th>\n",
              "      <th></th>\n",
              "      <th></th>\n",
              "      <th></th>\n",
              "      <th></th>\n",
              "      <th></th>\n",
              "      <th></th>\n",
              "      <th></th>\n",
              "      <th></th>\n",
              "      <th></th>\n",
              "      <th></th>\n",
              "      <th></th>\n",
              "      <th></th>\n",
              "      <th></th>\n",
              "      <th></th>\n",
              "      <th></th>\n",
              "      <th></th>\n",
              "      <th></th>\n",
              "      <th></th>\n",
              "      <th></th>\n",
              "      <th></th>\n",
              "      <th></th>\n",
              "      <th></th>\n",
              "      <th></th>\n",
              "      <th></th>\n",
              "      <th></th>\n",
              "      <th></th>\n",
              "      <th></th>\n",
              "      <th></th>\n",
              "      <th></th>\n",
              "      <th></th>\n",
              "      <th></th>\n",
              "    </tr>\n",
              "  </thead>\n",
              "  <tbody>\n",
              "    <tr>\n",
              "      <th>GSM1512142</th>\n",
              "      <td>1.000000</td>\n",
              "      <td>4.262995</td>\n",
              "      <td>4.262995</td>\n",
              "      <td>1.0</td>\n",
              "      <td>6.420548</td>\n",
              "      <td>1.000000</td>\n",
              "      <td>1.0</td>\n",
              "      <td>1.0</td>\n",
              "      <td>1.0</td>\n",
              "      <td>1.0</td>\n",
              "      <td>1.000000</td>\n",
              "      <td>1.0</td>\n",
              "      <td>4.262995</td>\n",
              "      <td>1.0</td>\n",
              "      <td>1.000000</td>\n",
              "      <td>2.336774</td>\n",
              "      <td>1.0</td>\n",
              "      <td>2.336774</td>\n",
              "      <td>1.000000</td>\n",
              "      <td>1.0</td>\n",
              "      <td>1.000000</td>\n",
              "      <td>1.000000</td>\n",
              "      <td>6.728644</td>\n",
              "      <td>5.450346</td>\n",
              "      <td>1.0</td>\n",
              "      <td>1.000000</td>\n",
              "      <td>1.000000</td>\n",
              "      <td>2.336774</td>\n",
              "      <td>6.248638</td>\n",
              "      <td>1.000000</td>\n",
              "      <td>1.000000</td>\n",
              "      <td>1.000000</td>\n",
              "      <td>1.000000</td>\n",
              "      <td>1.000000</td>\n",
              "      <td>1.000000</td>\n",
              "      <td>5.450346</td>\n",
              "      <td>4.262995</td>\n",
              "      <td>5.014422</td>\n",
              "      <td>1.0</td>\n",
              "      <td>4.262995</td>\n",
              "      <td>...</td>\n",
              "      <td>1.000000</td>\n",
              "      <td>1.0</td>\n",
              "      <td>1.0</td>\n",
              "      <td>1.0</td>\n",
              "      <td>4.262995</td>\n",
              "      <td>1.0</td>\n",
              "      <td>1.000000</td>\n",
              "      <td>7.828533</td>\n",
              "      <td>7.828533</td>\n",
              "      <td>7.059014</td>\n",
              "      <td>6.728644</td>\n",
              "      <td>8.273836</td>\n",
              "      <td>6.728644</td>\n",
              "      <td>7.319222</td>\n",
              "      <td>7.319222</td>\n",
              "      <td>9.504007</td>\n",
              "      <td>8.052603</td>\n",
              "      <td>6.248638</td>\n",
              "      <td>6.420548</td>\n",
              "      <td>4.262995</td>\n",
              "      <td>7.059014</td>\n",
              "      <td>8.455011</td>\n",
              "      <td>7.059014</td>\n",
              "      <td>7.828533</td>\n",
              "      <td>8.373233</td>\n",
              "      <td>6.248638</td>\n",
              "      <td>4.262995</td>\n",
              "      <td>6.420548</td>\n",
              "      <td>7.222831</td>\n",
              "      <td>6.728644</td>\n",
              "      <td>5.450346</td>\n",
              "      <td>6.420548</td>\n",
              "      <td>6.248638</td>\n",
              "      <td>5.781078</td>\n",
              "      <td>7.059014</td>\n",
              "      <td>6.038019</td>\n",
              "      <td>8.455011</td>\n",
              "      <td>1.000000</td>\n",
              "      <td>5.450346</td>\n",
              "      <td>0.0</td>\n",
              "    </tr>\n",
              "    <tr>\n",
              "      <th>GSM1512143</th>\n",
              "      <td>1.000000</td>\n",
              "      <td>1.000000</td>\n",
              "      <td>1.000000</td>\n",
              "      <td>1.0</td>\n",
              "      <td>4.370692</td>\n",
              "      <td>1.000000</td>\n",
              "      <td>1.0</td>\n",
              "      <td>1.0</td>\n",
              "      <td>1.0</td>\n",
              "      <td>1.0</td>\n",
              "      <td>1.391073</td>\n",
              "      <td>1.0</td>\n",
              "      <td>1.000000</td>\n",
              "      <td>1.0</td>\n",
              "      <td>1.000000</td>\n",
              "      <td>1.000000</td>\n",
              "      <td>1.0</td>\n",
              "      <td>1.000000</td>\n",
              "      <td>1.391073</td>\n",
              "      <td>1.0</td>\n",
              "      <td>1.000000</td>\n",
              "      <td>3.136886</td>\n",
              "      <td>6.436324</td>\n",
              "      <td>5.240589</td>\n",
              "      <td>1.0</td>\n",
              "      <td>3.136886</td>\n",
              "      <td>3.136886</td>\n",
              "      <td>1.000000</td>\n",
              "      <td>6.284242</td>\n",
              "      <td>1.000000</td>\n",
              "      <td>1.000000</td>\n",
              "      <td>1.000000</td>\n",
              "      <td>1.000000</td>\n",
              "      <td>1.000000</td>\n",
              "      <td>1.000000</td>\n",
              "      <td>5.240589</td>\n",
              "      <td>4.370692</td>\n",
              "      <td>1.391073</td>\n",
              "      <td>1.0</td>\n",
              "      <td>3.846243</td>\n",
              "      <td>...</td>\n",
              "      <td>1.000000</td>\n",
              "      <td>1.0</td>\n",
              "      <td>1.0</td>\n",
              "      <td>1.0</td>\n",
              "      <td>3.846243</td>\n",
              "      <td>1.0</td>\n",
              "      <td>1.391073</td>\n",
              "      <td>8.349497</td>\n",
              "      <td>8.656972</td>\n",
              "      <td>6.356608</td>\n",
              "      <td>6.436324</td>\n",
              "      <td>8.090505</td>\n",
              "      <td>6.170350</td>\n",
              "      <td>6.529228</td>\n",
              "      <td>7.960402</td>\n",
              "      <td>8.606451</td>\n",
              "      <td>7.835585</td>\n",
              "      <td>4.370692</td>\n",
              "      <td>7.004594</td>\n",
              "      <td>4.370692</td>\n",
              "      <td>7.336514</td>\n",
              "      <td>7.687020</td>\n",
              "      <td>4.370692</td>\n",
              "      <td>7.275976</td>\n",
              "      <td>8.201368</td>\n",
              "      <td>6.067018</td>\n",
              "      <td>5.062997</td>\n",
              "      <td>5.628266</td>\n",
              "      <td>8.431464</td>\n",
              "      <td>8.285002</td>\n",
              "      <td>6.170350</td>\n",
              "      <td>6.684122</td>\n",
              "      <td>6.836845</td>\n",
              "      <td>5.949447</td>\n",
              "      <td>7.336514</td>\n",
              "      <td>6.284242</td>\n",
              "      <td>7.150665</td>\n",
              "      <td>5.062997</td>\n",
              "      <td>5.062997</td>\n",
              "      <td>0.0</td>\n",
              "    </tr>\n",
              "    <tr>\n",
              "      <th>GSM1512144</th>\n",
              "      <td>1.000000</td>\n",
              "      <td>4.888494</td>\n",
              "      <td>1.000000</td>\n",
              "      <td>1.0</td>\n",
              "      <td>7.254011</td>\n",
              "      <td>1.654871</td>\n",
              "      <td>1.0</td>\n",
              "      <td>1.0</td>\n",
              "      <td>1.0</td>\n",
              "      <td>1.0</td>\n",
              "      <td>1.000000</td>\n",
              "      <td>1.0</td>\n",
              "      <td>1.000000</td>\n",
              "      <td>1.0</td>\n",
              "      <td>5.710041</td>\n",
              "      <td>1.000000</td>\n",
              "      <td>1.0</td>\n",
              "      <td>1.000000</td>\n",
              "      <td>1.000000</td>\n",
              "      <td>1.0</td>\n",
              "      <td>5.406824</td>\n",
              "      <td>1.000000</td>\n",
              "      <td>5.710041</td>\n",
              "      <td>6.701950</td>\n",
              "      <td>1.0</td>\n",
              "      <td>6.167703</td>\n",
              "      <td>1.654871</td>\n",
              "      <td>1.000000</td>\n",
              "      <td>5.824839</td>\n",
              "      <td>1.000000</td>\n",
              "      <td>4.888494</td>\n",
              "      <td>1.000000</td>\n",
              "      <td>4.050694</td>\n",
              "      <td>1.654871</td>\n",
              "      <td>1.654871</td>\n",
              "      <td>1.000000</td>\n",
              "      <td>5.580730</td>\n",
              "      <td>1.000000</td>\n",
              "      <td>1.0</td>\n",
              "      <td>7.643808</td>\n",
              "      <td>...</td>\n",
              "      <td>1.000000</td>\n",
              "      <td>1.0</td>\n",
              "      <td>1.0</td>\n",
              "      <td>1.0</td>\n",
              "      <td>1.000000</td>\n",
              "      <td>1.0</td>\n",
              "      <td>1.654871</td>\n",
              "      <td>6.768200</td>\n",
              "      <td>7.093676</td>\n",
              "      <td>5.935992</td>\n",
              "      <td>6.423491</td>\n",
              "      <td>7.036954</td>\n",
              "      <td>6.423491</td>\n",
              "      <td>5.935992</td>\n",
              "      <td>7.093676</td>\n",
              "      <td>7.575507</td>\n",
              "      <td>6.932835</td>\n",
              "      <td>5.710041</td>\n",
              "      <td>6.932835</td>\n",
              "      <td>4.470609</td>\n",
              "      <td>6.895560</td>\n",
              "      <td>7.093676</td>\n",
              "      <td>6.964425</td>\n",
              "      <td>7.332490</td>\n",
              "      <td>7.383830</td>\n",
              "      <td>6.574513</td>\n",
              "      <td>4.050694</td>\n",
              "      <td>5.935992</td>\n",
              "      <td>7.212345</td>\n",
              "      <td>7.212345</td>\n",
              "      <td>5.406824</td>\n",
              "      <td>6.340894</td>\n",
              "      <td>6.064883</td>\n",
              "      <td>5.935992</td>\n",
              "      <td>7.136268</td>\n",
              "      <td>5.853284</td>\n",
              "      <td>6.340894</td>\n",
              "      <td>4.470609</td>\n",
              "      <td>6.064883</td>\n",
              "      <td>0.0</td>\n",
              "    </tr>\n",
              "    <tr>\n",
              "      <th>GSM1512145</th>\n",
              "      <td>3.992913</td>\n",
              "      <td>1.000000</td>\n",
              "      <td>1.000000</td>\n",
              "      <td>1.0</td>\n",
              "      <td>6.236254</td>\n",
              "      <td>3.992913</td>\n",
              "      <td>1.0</td>\n",
              "      <td>1.0</td>\n",
              "      <td>1.0</td>\n",
              "      <td>1.0</td>\n",
              "      <td>1.000000</td>\n",
              "      <td>1.0</td>\n",
              "      <td>1.000000</td>\n",
              "      <td>1.0</td>\n",
              "      <td>2.484653</td>\n",
              "      <td>5.198381</td>\n",
              "      <td>1.0</td>\n",
              "      <td>1.000000</td>\n",
              "      <td>1.000000</td>\n",
              "      <td>1.0</td>\n",
              "      <td>1.000000</td>\n",
              "      <td>1.000000</td>\n",
              "      <td>1.000000</td>\n",
              "      <td>6.071196</td>\n",
              "      <td>1.0</td>\n",
              "      <td>6.236254</td>\n",
              "      <td>1.000000</td>\n",
              "      <td>1.000000</td>\n",
              "      <td>1.000000</td>\n",
              "      <td>2.484653</td>\n",
              "      <td>1.000000</td>\n",
              "      <td>2.484653</td>\n",
              "      <td>1.000000</td>\n",
              "      <td>1.000000</td>\n",
              "      <td>3.992913</td>\n",
              "      <td>2.484653</td>\n",
              "      <td>1.000000</td>\n",
              "      <td>3.992913</td>\n",
              "      <td>1.0</td>\n",
              "      <td>7.413773</td>\n",
              "      <td>...</td>\n",
              "      <td>3.992913</td>\n",
              "      <td>1.0</td>\n",
              "      <td>1.0</td>\n",
              "      <td>1.0</td>\n",
              "      <td>2.484653</td>\n",
              "      <td>1.0</td>\n",
              "      <td>3.992913</td>\n",
              "      <td>7.215294</td>\n",
              "      <td>7.687020</td>\n",
              "      <td>6.071196</td>\n",
              "      <td>6.990446</td>\n",
              "      <td>7.083919</td>\n",
              "      <td>6.720574</td>\n",
              "      <td>6.071196</td>\n",
              "      <td>7.083919</td>\n",
              "      <td>7.592523</td>\n",
              "      <td>7.215294</td>\n",
              "      <td>5.576247</td>\n",
              "      <td>6.806830</td>\n",
              "      <td>5.847563</td>\n",
              "      <td>6.720574</td>\n",
              "      <td>7.215294</td>\n",
              "      <td>6.621930</td>\n",
              "      <td>6.720574</td>\n",
              "      <td>7.158045</td>\n",
              "      <td>5.847563</td>\n",
              "      <td>5.198381</td>\n",
              "      <td>6.236254</td>\n",
              "      <td>7.336514</td>\n",
              "      <td>7.476855</td>\n",
              "      <td>5.576247</td>\n",
              "      <td>6.523319</td>\n",
              "      <td>6.236254</td>\n",
              "      <td>5.847563</td>\n",
              "      <td>7.687020</td>\n",
              "      <td>6.236254</td>\n",
              "      <td>5.847563</td>\n",
              "      <td>5.198381</td>\n",
              "      <td>5.198381</td>\n",
              "      <td>0.0</td>\n",
              "    </tr>\n",
              "    <tr>\n",
              "      <th>GSM1512146</th>\n",
              "      <td>1.000000</td>\n",
              "      <td>3.155257</td>\n",
              "      <td>1.000000</td>\n",
              "      <td>1.0</td>\n",
              "      <td>4.745715</td>\n",
              "      <td>1.000000</td>\n",
              "      <td>1.0</td>\n",
              "      <td>1.0</td>\n",
              "      <td>1.0</td>\n",
              "      <td>1.0</td>\n",
              "      <td>1.000000</td>\n",
              "      <td>1.0</td>\n",
              "      <td>1.000000</td>\n",
              "      <td>1.0</td>\n",
              "      <td>1.000000</td>\n",
              "      <td>1.000000</td>\n",
              "      <td>1.0</td>\n",
              "      <td>1.000000</td>\n",
              "      <td>1.000000</td>\n",
              "      <td>1.0</td>\n",
              "      <td>1.000000</td>\n",
              "      <td>1.000000</td>\n",
              "      <td>3.155257</td>\n",
              "      <td>5.822897</td>\n",
              "      <td>1.0</td>\n",
              "      <td>4.745715</td>\n",
              "      <td>1.000000</td>\n",
              "      <td>1.000000</td>\n",
              "      <td>4.745715</td>\n",
              "      <td>1.000000</td>\n",
              "      <td>1.000000</td>\n",
              "      <td>1.000000</td>\n",
              "      <td>1.000000</td>\n",
              "      <td>1.000000</td>\n",
              "      <td>5.437265</td>\n",
              "      <td>4.151257</td>\n",
              "      <td>5.155807</td>\n",
              "      <td>1.000000</td>\n",
              "      <td>1.0</td>\n",
              "      <td>6.658705</td>\n",
              "      <td>...</td>\n",
              "      <td>1.000000</td>\n",
              "      <td>1.0</td>\n",
              "      <td>1.0</td>\n",
              "      <td>1.0</td>\n",
              "      <td>3.155257</td>\n",
              "      <td>1.0</td>\n",
              "      <td>1.000000</td>\n",
              "      <td>7.379608</td>\n",
              "      <td>7.512644</td>\n",
              "      <td>5.155807</td>\n",
              "      <td>6.658705</td>\n",
              "      <td>7.200928</td>\n",
              "      <td>6.390528</td>\n",
              "      <td>6.658705</td>\n",
              "      <td>7.046851</td>\n",
              "      <td>8.150018</td>\n",
              "      <td>7.581192</td>\n",
              "      <td>5.437265</td>\n",
              "      <td>6.932835</td>\n",
              "      <td>5.155807</td>\n",
              "      <td>7.200928</td>\n",
              "      <td>7.880538</td>\n",
              "      <td>6.860489</td>\n",
              "      <td>7.761031</td>\n",
              "      <td>7.997070</td>\n",
              "      <td>6.159905</td>\n",
              "      <td>4.745715</td>\n",
              "      <td>6.022860</td>\n",
              "      <td>7.581192</td>\n",
              "      <td>7.581192</td>\n",
              "      <td>5.437265</td>\n",
              "      <td>6.860489</td>\n",
              "      <td>6.526038</td>\n",
              "      <td>6.277167</td>\n",
              "      <td>7.379608</td>\n",
              "      <td>6.084644</td>\n",
              "      <td>7.154360</td>\n",
              "      <td>4.745715</td>\n",
              "      <td>6.390528</td>\n",
              "      <td>0.0</td>\n",
              "    </tr>\n",
              "  </tbody>\n",
              "</table>\n",
              "<p>5 rows × 101 columns</p>\n",
              "</div>\n",
              "      <button class=\"colab-df-convert\" onclick=\"convertToInteractive('df-3b8251cd-1059-4576-8f84-f3e92dda1b9f')\"\n",
              "              title=\"Convert this dataframe to an interactive table.\"\n",
              "              style=\"display:none;\">\n",
              "        \n",
              "  <svg xmlns=\"http://www.w3.org/2000/svg\" height=\"24px\"viewBox=\"0 0 24 24\"\n",
              "       width=\"24px\">\n",
              "    <path d=\"M0 0h24v24H0V0z\" fill=\"none\"/>\n",
              "    <path d=\"M18.56 5.44l.94 2.06.94-2.06 2.06-.94-2.06-.94-.94-2.06-.94 2.06-2.06.94zm-11 1L8.5 8.5l.94-2.06 2.06-.94-2.06-.94L8.5 2.5l-.94 2.06-2.06.94zm10 10l.94 2.06.94-2.06 2.06-.94-2.06-.94-.94-2.06-.94 2.06-2.06.94z\"/><path d=\"M17.41 7.96l-1.37-1.37c-.4-.4-.92-.59-1.43-.59-.52 0-1.04.2-1.43.59L10.3 9.45l-7.72 7.72c-.78.78-.78 2.05 0 2.83L4 21.41c.39.39.9.59 1.41.59.51 0 1.02-.2 1.41-.59l7.78-7.78 2.81-2.81c.8-.78.8-2.07 0-2.86zM5.41 20L4 18.59l7.72-7.72 1.47 1.35L5.41 20z\"/>\n",
              "  </svg>\n",
              "      </button>\n",
              "      \n",
              "  <style>\n",
              "    .colab-df-container {\n",
              "      display:flex;\n",
              "      flex-wrap:wrap;\n",
              "      gap: 12px;\n",
              "    }\n",
              "\n",
              "    .colab-df-convert {\n",
              "      background-color: #E8F0FE;\n",
              "      border: none;\n",
              "      border-radius: 50%;\n",
              "      cursor: pointer;\n",
              "      display: none;\n",
              "      fill: #1967D2;\n",
              "      height: 32px;\n",
              "      padding: 0 0 0 0;\n",
              "      width: 32px;\n",
              "    }\n",
              "\n",
              "    .colab-df-convert:hover {\n",
              "      background-color: #E2EBFA;\n",
              "      box-shadow: 0px 1px 2px rgba(60, 64, 67, 0.3), 0px 1px 3px 1px rgba(60, 64, 67, 0.15);\n",
              "      fill: #174EA6;\n",
              "    }\n",
              "\n",
              "    [theme=dark] .colab-df-convert {\n",
              "      background-color: #3B4455;\n",
              "      fill: #D2E3FC;\n",
              "    }\n",
              "\n",
              "    [theme=dark] .colab-df-convert:hover {\n",
              "      background-color: #434B5C;\n",
              "      box-shadow: 0px 1px 3px 1px rgba(0, 0, 0, 0.15);\n",
              "      filter: drop-shadow(0px 1px 2px rgba(0, 0, 0, 0.3));\n",
              "      fill: #FFFFFF;\n",
              "    }\n",
              "  </style>\n",
              "\n",
              "      <script>\n",
              "        const buttonEl =\n",
              "          document.querySelector('#df-3b8251cd-1059-4576-8f84-f3e92dda1b9f button.colab-df-convert');\n",
              "        buttonEl.style.display =\n",
              "          google.colab.kernel.accessAllowed ? 'block' : 'none';\n",
              "\n",
              "        async function convertToInteractive(key) {\n",
              "          const element = document.querySelector('#df-3b8251cd-1059-4576-8f84-f3e92dda1b9f');\n",
              "          const dataTable =\n",
              "            await google.colab.kernel.invokeFunction('convertToInteractive',\n",
              "                                                     [key], {});\n",
              "          if (!dataTable) return;\n",
              "\n",
              "          const docLinkHtml = 'Like what you see? Visit the ' +\n",
              "            '<a target=\"_blank\" href=https://colab.research.google.com/notebooks/data_table.ipynb>data table notebook</a>'\n",
              "            + ' to learn more about interactive tables.';\n",
              "          element.innerHTML = '';\n",
              "          dataTable['output_type'] = 'display_data';\n",
              "          await google.colab.output.renderOutput(dataTable, element);\n",
              "          const docLink = document.createElement('div');\n",
              "          docLink.innerHTML = docLinkHtml;\n",
              "          element.appendChild(docLink);\n",
              "        }\n",
              "      </script>\n",
              "    </div>\n",
              "  </div>\n",
              "  "
            ],
            "text/plain": [
              "            hsa-miR-375  hsa-miR-29c*  ...  hsa-miR-518d-3p   SD\n",
              "Unnamed: 0                             ...                      \n",
              "GSM1512142     1.000000      4.262995  ...         5.450346  0.0\n",
              "GSM1512143     1.000000      1.000000  ...         5.062997  0.0\n",
              "GSM1512144     1.000000      4.888494  ...         6.064883  0.0\n",
              "GSM1512145     3.992913      1.000000  ...         5.198381  0.0\n",
              "GSM1512146     1.000000      3.155257  ...         6.390528  0.0\n",
              "\n",
              "[5 rows x 101 columns]"
            ]
          },
          "metadata": {},
          "execution_count": 6
        }
      ]
    },
    {
      "cell_type": "code",
      "source": [
        "df['SD'].value_counts()"
      ],
      "metadata": {
        "colab": {
          "base_uri": "https://localhost:8080/"
        },
        "id": "tCwj3mDSHYYS",
        "outputId": "fa31a439-1715-42a8-fa35-73221773e8dd"
      },
      "execution_count": 3,
      "outputs": [
        {
          "output_type": "execute_result",
          "data": {
            "text/plain": [
              "0.0    94\n",
              "1.0    62\n",
              "Name: SD, dtype: int64"
            ]
          },
          "metadata": {},
          "execution_count": 3
        }
      ]
    },
    {
      "cell_type": "markdown",
      "source": [
        "Note: '0' classs represents 'Healthy' and '1' class represents 'MI'."
      ],
      "metadata": {
        "id": "XwcG2t-0IVZZ"
      }
    },
    {
      "cell_type": "code",
      "source": [
        "corr = df.corr()\n",
        "corr = corr[corr < 1]\n",
        "corr[corr >= 0.8].sum().sum()"
      ],
      "metadata": {
        "colab": {
          "base_uri": "https://localhost:8080/"
        },
        "id": "PpqB71_OIi_f",
        "outputId": "21aad982-005e-436c-e7d5-f63fb0b3f172"
      },
      "execution_count": 46,
      "outputs": [
        {
          "output_type": "execute_result",
          "data": {
            "text/plain": [
              "0.0"
            ]
          },
          "metadata": {},
          "execution_count": 46
        }
      ]
    },
    {
      "cell_type": "code",
      "source": [
        "corr[corr <= -0.8].sum().sum()"
      ],
      "metadata": {
        "colab": {
          "base_uri": "https://localhost:8080/"
        },
        "id": "6e_-5LswRKvw",
        "outputId": "7d9755bf-346a-49d4-b8cc-4241ee1465a4"
      },
      "execution_count": 50,
      "outputs": [
        {
          "output_type": "execute_result",
          "data": {
            "text/plain": [
              "0.0"
            ]
          },
          "metadata": {},
          "execution_count": 50
        }
      ]
    },
    {
      "cell_type": "markdown",
      "source": [
        "There is no couple of strongly correlated mirs."
      ],
      "metadata": {
        "id": "OLfsa1BpRX9t"
      }
    },
    {
      "cell_type": "code",
      "source": [
        "df.describe().T"
      ],
      "metadata": {
        "colab": {
          "base_uri": "https://localhost:8080/",
          "height": 424
        },
        "id": "R3Yhx7ICRsHb",
        "outputId": "52e80beb-9e23-4921-b542-4aa375b4dac1"
      },
      "execution_count": 52,
      "outputs": [
        {
          "output_type": "execute_result",
          "data": {
            "text/html": [
              "\n",
              "  <div id=\"df-81f1a05d-ac15-4451-bc50-699669d31916\">\n",
              "    <div class=\"colab-df-container\">\n",
              "      <div>\n",
              "<style scoped>\n",
              "    .dataframe tbody tr th:only-of-type {\n",
              "        vertical-align: middle;\n",
              "    }\n",
              "\n",
              "    .dataframe tbody tr th {\n",
              "        vertical-align: top;\n",
              "    }\n",
              "\n",
              "    .dataframe thead th {\n",
              "        text-align: right;\n",
              "    }\n",
              "</style>\n",
              "<table border=\"1\" class=\"dataframe\">\n",
              "  <thead>\n",
              "    <tr style=\"text-align: right;\">\n",
              "      <th></th>\n",
              "      <th>count</th>\n",
              "      <th>mean</th>\n",
              "      <th>std</th>\n",
              "      <th>min</th>\n",
              "      <th>25%</th>\n",
              "      <th>50%</th>\n",
              "      <th>75%</th>\n",
              "      <th>max</th>\n",
              "    </tr>\n",
              "  </thead>\n",
              "  <tbody>\n",
              "    <tr>\n",
              "      <th>hsa-miR-375</th>\n",
              "      <td>156.0</td>\n",
              "      <td>3.988403</td>\n",
              "      <td>2.400328</td>\n",
              "      <td>1.0</td>\n",
              "      <td>1.000000</td>\n",
              "      <td>4.692715</td>\n",
              "      <td>6.069823</td>\n",
              "      <td>8.773341</td>\n",
              "    </tr>\n",
              "    <tr>\n",
              "      <th>hsa-miR-29c*</th>\n",
              "      <td>156.0</td>\n",
              "      <td>3.470372</td>\n",
              "      <td>2.180895</td>\n",
              "      <td>1.0</td>\n",
              "      <td>1.000000</td>\n",
              "      <td>3.971773</td>\n",
              "      <td>5.416302</td>\n",
              "      <td>7.842604</td>\n",
              "    </tr>\n",
              "    <tr>\n",
              "      <th>hsa-miR-1258</th>\n",
              "      <td>156.0</td>\n",
              "      <td>2.750709</td>\n",
              "      <td>2.245963</td>\n",
              "      <td>1.0</td>\n",
              "      <td>1.000000</td>\n",
              "      <td>1.000000</td>\n",
              "      <td>4.865278</td>\n",
              "      <td>7.904225</td>\n",
              "    </tr>\n",
              "    <tr>\n",
              "      <th>hsa-miR-132*</th>\n",
              "      <td>156.0</td>\n",
              "      <td>2.495132</td>\n",
              "      <td>1.936613</td>\n",
              "      <td>1.0</td>\n",
              "      <td>1.000000</td>\n",
              "      <td>1.000000</td>\n",
              "      <td>4.223067</td>\n",
              "      <td>7.001597</td>\n",
              "    </tr>\n",
              "    <tr>\n",
              "      <th>hsa-miR-142-3p</th>\n",
              "      <td>156.0</td>\n",
              "      <td>3.824555</td>\n",
              "      <td>2.441144</td>\n",
              "      <td>1.0</td>\n",
              "      <td>1.000000</td>\n",
              "      <td>4.420651</td>\n",
              "      <td>6.013287</td>\n",
              "      <td>7.775329</td>\n",
              "    </tr>\n",
              "    <tr>\n",
              "      <th>...</th>\n",
              "      <td>...</td>\n",
              "      <td>...</td>\n",
              "      <td>...</td>\n",
              "      <td>...</td>\n",
              "      <td>...</td>\n",
              "      <td>...</td>\n",
              "      <td>...</td>\n",
              "      <td>...</td>\n",
              "    </tr>\n",
              "    <tr>\n",
              "      <th>hsa-miR-10b*</th>\n",
              "      <td>156.0</td>\n",
              "      <td>4.812152</td>\n",
              "      <td>1.896128</td>\n",
              "      <td>1.0</td>\n",
              "      <td>4.581176</td>\n",
              "      <td>5.467262</td>\n",
              "      <td>6.160549</td>\n",
              "      <td>7.303504</td>\n",
              "    </tr>\n",
              "    <tr>\n",
              "      <th>hsa-miR-298</th>\n",
              "      <td>156.0</td>\n",
              "      <td>6.043371</td>\n",
              "      <td>2.005291</td>\n",
              "      <td>1.0</td>\n",
              "      <td>5.729827</td>\n",
              "      <td>6.627629</td>\n",
              "      <td>7.181233</td>\n",
              "      <td>9.306049</td>\n",
              "    </tr>\n",
              "    <tr>\n",
              "      <th>hsa-miR-889</th>\n",
              "      <td>156.0</td>\n",
              "      <td>3.985813</td>\n",
              "      <td>2.059721</td>\n",
              "      <td>1.0</td>\n",
              "      <td>1.000000</td>\n",
              "      <td>4.740519</td>\n",
              "      <td>5.599303</td>\n",
              "      <td>7.280034</td>\n",
              "    </tr>\n",
              "    <tr>\n",
              "      <th>hsa-miR-518d-3p</th>\n",
              "      <td>156.0</td>\n",
              "      <td>4.946677</td>\n",
              "      <td>2.035554</td>\n",
              "      <td>1.0</td>\n",
              "      <td>4.067689</td>\n",
              "      <td>5.576410</td>\n",
              "      <td>6.415498</td>\n",
              "      <td>8.211267</td>\n",
              "    </tr>\n",
              "    <tr>\n",
              "      <th>SD</th>\n",
              "      <td>156.0</td>\n",
              "      <td>0.397436</td>\n",
              "      <td>0.490944</td>\n",
              "      <td>0.0</td>\n",
              "      <td>0.000000</td>\n",
              "      <td>0.000000</td>\n",
              "      <td>1.000000</td>\n",
              "      <td>1.000000</td>\n",
              "    </tr>\n",
              "  </tbody>\n",
              "</table>\n",
              "<p>101 rows × 8 columns</p>\n",
              "</div>\n",
              "      <button class=\"colab-df-convert\" onclick=\"convertToInteractive('df-81f1a05d-ac15-4451-bc50-699669d31916')\"\n",
              "              title=\"Convert this dataframe to an interactive table.\"\n",
              "              style=\"display:none;\">\n",
              "        \n",
              "  <svg xmlns=\"http://www.w3.org/2000/svg\" height=\"24px\"viewBox=\"0 0 24 24\"\n",
              "       width=\"24px\">\n",
              "    <path d=\"M0 0h24v24H0V0z\" fill=\"none\"/>\n",
              "    <path d=\"M18.56 5.44l.94 2.06.94-2.06 2.06-.94-2.06-.94-.94-2.06-.94 2.06-2.06.94zm-11 1L8.5 8.5l.94-2.06 2.06-.94-2.06-.94L8.5 2.5l-.94 2.06-2.06.94zm10 10l.94 2.06.94-2.06 2.06-.94-2.06-.94-.94-2.06-.94 2.06-2.06.94z\"/><path d=\"M17.41 7.96l-1.37-1.37c-.4-.4-.92-.59-1.43-.59-.52 0-1.04.2-1.43.59L10.3 9.45l-7.72 7.72c-.78.78-.78 2.05 0 2.83L4 21.41c.39.39.9.59 1.41.59.51 0 1.02-.2 1.41-.59l7.78-7.78 2.81-2.81c.8-.78.8-2.07 0-2.86zM5.41 20L4 18.59l7.72-7.72 1.47 1.35L5.41 20z\"/>\n",
              "  </svg>\n",
              "      </button>\n",
              "      \n",
              "  <style>\n",
              "    .colab-df-container {\n",
              "      display:flex;\n",
              "      flex-wrap:wrap;\n",
              "      gap: 12px;\n",
              "    }\n",
              "\n",
              "    .colab-df-convert {\n",
              "      background-color: #E8F0FE;\n",
              "      border: none;\n",
              "      border-radius: 50%;\n",
              "      cursor: pointer;\n",
              "      display: none;\n",
              "      fill: #1967D2;\n",
              "      height: 32px;\n",
              "      padding: 0 0 0 0;\n",
              "      width: 32px;\n",
              "    }\n",
              "\n",
              "    .colab-df-convert:hover {\n",
              "      background-color: #E2EBFA;\n",
              "      box-shadow: 0px 1px 2px rgba(60, 64, 67, 0.3), 0px 1px 3px 1px rgba(60, 64, 67, 0.15);\n",
              "      fill: #174EA6;\n",
              "    }\n",
              "\n",
              "    [theme=dark] .colab-df-convert {\n",
              "      background-color: #3B4455;\n",
              "      fill: #D2E3FC;\n",
              "    }\n",
              "\n",
              "    [theme=dark] .colab-df-convert:hover {\n",
              "      background-color: #434B5C;\n",
              "      box-shadow: 0px 1px 3px 1px rgba(0, 0, 0, 0.15);\n",
              "      filter: drop-shadow(0px 1px 2px rgba(0, 0, 0, 0.3));\n",
              "      fill: #FFFFFF;\n",
              "    }\n",
              "  </style>\n",
              "\n",
              "      <script>\n",
              "        const buttonEl =\n",
              "          document.querySelector('#df-81f1a05d-ac15-4451-bc50-699669d31916 button.colab-df-convert');\n",
              "        buttonEl.style.display =\n",
              "          google.colab.kernel.accessAllowed ? 'block' : 'none';\n",
              "\n",
              "        async function convertToInteractive(key) {\n",
              "          const element = document.querySelector('#df-81f1a05d-ac15-4451-bc50-699669d31916');\n",
              "          const dataTable =\n",
              "            await google.colab.kernel.invokeFunction('convertToInteractive',\n",
              "                                                     [key], {});\n",
              "          if (!dataTable) return;\n",
              "\n",
              "          const docLinkHtml = 'Like what you see? Visit the ' +\n",
              "            '<a target=\"_blank\" href=https://colab.research.google.com/notebooks/data_table.ipynb>data table notebook</a>'\n",
              "            + ' to learn more about interactive tables.';\n",
              "          element.innerHTML = '';\n",
              "          dataTable['output_type'] = 'display_data';\n",
              "          await google.colab.output.renderOutput(dataTable, element);\n",
              "          const docLink = document.createElement('div');\n",
              "          docLink.innerHTML = docLinkHtml;\n",
              "          element.appendChild(docLink);\n",
              "        }\n",
              "      </script>\n",
              "    </div>\n",
              "  </div>\n",
              "  "
            ],
            "text/plain": [
              "                 count      mean       std  ...       50%       75%       max\n",
              "hsa-miR-375      156.0  3.988403  2.400328  ...  4.692715  6.069823  8.773341\n",
              "hsa-miR-29c*     156.0  3.470372  2.180895  ...  3.971773  5.416302  7.842604\n",
              "hsa-miR-1258     156.0  2.750709  2.245963  ...  1.000000  4.865278  7.904225\n",
              "hsa-miR-132*     156.0  2.495132  1.936613  ...  1.000000  4.223067  7.001597\n",
              "hsa-miR-142-3p   156.0  3.824555  2.441144  ...  4.420651  6.013287  7.775329\n",
              "...                ...       ...       ...  ...       ...       ...       ...\n",
              "hsa-miR-10b*     156.0  4.812152  1.896128  ...  5.467262  6.160549  7.303504\n",
              "hsa-miR-298      156.0  6.043371  2.005291  ...  6.627629  7.181233  9.306049\n",
              "hsa-miR-889      156.0  3.985813  2.059721  ...  4.740519  5.599303  7.280034\n",
              "hsa-miR-518d-3p  156.0  4.946677  2.035554  ...  5.576410  6.415498  8.211267\n",
              "SD               156.0  0.397436  0.490944  ...  0.000000  1.000000  1.000000\n",
              "\n",
              "[101 rows x 8 columns]"
            ]
          },
          "metadata": {},
          "execution_count": 52
        }
      ]
    },
    {
      "cell_type": "code",
      "source": [
        "df_melt=pd.melt(df, id_vars='SD')"
      ],
      "metadata": {
        "id": "b5RZ_OmeU4Df"
      },
      "execution_count": 53,
      "outputs": []
    },
    {
      "cell_type": "code",
      "source": [
        "plt.figure(figsize=(50,10))\n",
        "sns.boxplot(x=\"variable\", y=\"value\", hue='SD', data=df_melt);\n",
        "plt.ylabel('', fontsize = 20)\n",
        "plt.xlabel('MiRNA log2 Expression', fontsize = 20)\n",
        "plt.legend(loc='lower right', prop={'size':20})\n",
        "plt.tick_params(axis='x', which='major', labelsize=15, rotation=90)\n",
        "plt.tick_params(axis='both', which='major', labelsize=16)\n",
        "plt.savefig('Expression.pdf', bbox_inches='tight')"
      ],
      "metadata": {
        "colab": {
          "base_uri": "https://localhost:8080/",
          "height": 248
        },
        "id": "M3X8tmevR98n",
        "outputId": "22460c9a-87f6-4e78-e750-ac5f8954a583"
      },
      "execution_count": 63,
      "outputs": [
        {
          "output_type": "display_data",
          "data": {
            "image/png": "[encoded data removed]",
            "text/plain": [
              "<Figure size 3600x720 with 1 Axes>"
            ]
          },
          "metadata": {
            "needs_background": "light"
          }
        }
      ]
    },
    {
      "cell_type": "code",
      "source": [
        "X=df.drop('SD', axis=1)\n",
        "y=df['SD']\n",
        "X_train_val, X_test, y_train_val, y_test = train_test_split(X, y, test_size=0.25, random_state=1)\n",
        "X_train, X_val, y_train, y_val = train_test_split(X_train_val, y_train_val, test_size=0.25, random_state=1)"
      ],
      "metadata": {
        "id": "FR_nkxtNWYYN"
      },
      "execution_count": 4,
      "outputs": []
    },
    {
      "cell_type": "markdown",
      "source": [
        "upsampling?"
      ],
      "metadata": {
        "id": "Oti0XnqIM1Th"
      }
    },
    {
      "cell_type": "markdown",
      "source": [
        "# RF"
      ],
      "metadata": {
        "id": "1JtBjzl9AKO7"
      }
    },
    {
      "cell_type": "code",
      "source": [
        "RF=RandomForestClassifier()\n",
        "RF.fit(X_train, y_train)"
      ],
      "metadata": {
        "colab": {
          "base_uri": "https://localhost:8080/"
        },
        "id": "bkYfN1tCs3pZ",
        "outputId": "44c998bd-aa34-4a7c-e5e2-c094e643ec51"
      },
      "execution_count": 5,
      "outputs": [
        {
          "output_type": "execute_result",
          "data": {
            "text/plain": [
              "RandomForestClassifier()"
            ]
          },
          "metadata": {},
          "execution_count": 5
        }
      ]
    },
    {
      "cell_type": "code",
      "source": [
        "print('Model score on train set:')\n",
        "print(RF.score(X_train, y_train))\n",
        "print('Model score on train set:')\n",
        "print(RF.score(X_val, y_val))"
      ],
      "metadata": {
        "colab": {
          "base_uri": "https://localhost:8080/"
        },
        "id": "8jlWEY7KuRBg",
        "outputId": "0eca49bf-0a50-42fc-d1b8-ca31ffd30e54"
      },
      "execution_count": 82,
      "outputs": [
        {
          "output_type": "stream",
          "name": "stdout",
          "text": [
            "Model score on train set:\n",
            "1.0\n",
            "Model score on train set:\n",
            "0.7333333333333333\n"
          ]
        }
      ]
    },
    {
      "cell_type": "code",
      "source": [
        "imp=RF.feature_importances_\n",
        "RF.feature_names_in_[imp.argsort()[-4:][::-1]]"
      ],
      "metadata": {
        "colab": {
          "base_uri": "https://localhost:8080/"
        },
        "id": "5ZnFNjUvCswQ",
        "outputId": "f7aca6b8-0445-4eef-ed2c-1d297275d3cc"
      },
      "execution_count": 127,
      "outputs": [
        {
          "output_type": "execute_result",
          "data": {
            "text/plain": [
              "array(['hsa-miR-483-3p', 'hsa-miR-373', 'hsa-miR-1291', 'hsa-miR-455-3p'],\n",
              "      dtype=object)"
            ]
          },
          "metadata": {},
          "execution_count": 127
        }
      ]
    },
    {
      "cell_type": "markdown",
      "source": [
        "## Grid Search"
      ],
      "metadata": {
        "id": "wGBUI_zPK3jj"
      }
    },
    {
      "cell_type": "markdown",
      "source": [
        "### All together"
      ],
      "metadata": {
        "id": "jDoVZ8CNVSOw"
      }
    },
    {
      "cell_type": "code",
      "source": [
        "param_grid = {\n",
        "    'n_estimators' : [50, 100, 200, 300],\n",
        "    'criterion' : ['gini', 'entropy'],\n",
        "    'max_depth' : [3, 6, 9, 15],\n",
        "    'max_features' : [2, 3, 4, 5, 6]\n",
        "}\n",
        "base_estimator = RandomForestClassifier(random_state=1, n_jobs=-1)\n",
        "\n",
        "grid_search=GridSearchCV(base_estimator, param_grid=param_grid,\n",
        "                         cv=10, n_jobs=-1)"
      ],
      "metadata": {
        "id": "nW4BnyOJVc9U"
      },
      "execution_count": 23,
      "outputs": []
    },
    {
      "cell_type": "code",
      "source": [
        "grid_search.fit(X_train, y_train)"
      ],
      "metadata": {
        "colab": {
          "base_uri": "https://localhost:8080/"
        },
        "outputId": "fe3a433b-3d13-4169-b587-fa6c3c9fbb0d",
        "id": "MIUzWi6QVc9V"
      },
      "execution_count": 24,
      "outputs": [
        {
          "output_type": "execute_result",
          "data": {
            "text/plain": [
              "GridSearchCV(cv=10, estimator=RandomForestClassifier(n_jobs=-1, random_state=1),\n",
              "             n_jobs=-1,\n",
              "             param_grid={'criterion': ['gini', 'entropy'],\n",
              "                         'max_depth': [3, 6, 9, 15],\n",
              "                         'max_features': [2, 3, 4, 5, 6],\n",
              "                         'n_estimators': [50, 100, 200, 300]})"
            ]
          },
          "metadata": {},
          "execution_count": 24
        }
      ]
    },
    {
      "cell_type": "code",
      "source": [
        "print('Model score on train set:')\n",
        "print(grid_search.score(X_train, y_train))\n",
        "print('Model score on train set:')\n",
        "print(grid_search.score(X_val, y_val))"
      ],
      "metadata": {
        "colab": {
          "base_uri": "https://localhost:8080/"
        },
        "outputId": "19aecd01-f640-4c99-f63a-09f4125fbf0e",
        "id": "SCcdx8GoVc9W"
      },
      "execution_count": 25,
      "outputs": [
        {
          "output_type": "stream",
          "name": "stdout",
          "text": [
            "Model score on train set:\n",
            "1.0\n",
            "Model score on train set:\n",
            "0.7333333333333333\n"
          ]
        }
      ]
    },
    {
      "cell_type": "code",
      "source": [
        "grid_search.best_params_"
      ],
      "metadata": {
        "colab": {
          "base_uri": "https://localhost:8080/"
        },
        "outputId": "8c3b5ff9-df82-40ae-c621-11e0a1591927",
        "id": "m8ngYSpzVc9X"
      },
      "execution_count": 26,
      "outputs": [
        {
          "output_type": "execute_result",
          "data": {
            "text/plain": [
              "{'criterion': 'entropy',\n",
              " 'max_depth': 9,\n",
              " 'max_features': 6,\n",
              " 'n_estimators': 200}"
            ]
          },
          "metadata": {},
          "execution_count": 26
        }
      ]
    },
    {
      "cell_type": "code",
      "source": [
        "RF_GS_all=grid_search.best_estimator_.fit(X_train, y_train)"
      ],
      "metadata": {
        "id": "UQdrbiSnXyvh"
      },
      "execution_count": 28,
      "outputs": []
    },
    {
      "cell_type": "code",
      "source": [
        "imp=RF_GS_all.feature_importances_\n",
        "RF_GS_all.feature_names_in_[imp.argsort()[-4:][::-1]]"
      ],
      "metadata": {
        "colab": {
          "base_uri": "https://localhost:8080/"
        },
        "id": "NvOrhwULX_Ii",
        "outputId": "45e27ae5-6ce5-4d0b-d207-3cf41b2b1f70"
      },
      "execution_count": 29,
      "outputs": [
        {
          "output_type": "execute_result",
          "data": {
            "text/plain": [
              "array(['hsa-miR-31*', 'hsa-miR-1291', 'hsa-miR-483-3p', 'hsa-miR-96*'],\n",
              "      dtype=object)"
            ]
          },
          "metadata": {},
          "execution_count": 29
        }
      ]
    },
    {
      "cell_type": "markdown",
      "source": [
        "### Every time, I have ran the search for one parameter and add the best value for that parameter to the model\n",
        "\n",
        "\n"
      ],
      "metadata": {
        "id": "fCZX9330PVPd"
      }
    },
    {
      "cell_type": "code",
      "source": [
        "param_grid = {\n",
        "    #'n_estimators' : [50, 100, 200, 300],\n",
        "    #'criterion' : ['gini', 'entropy']\n",
        "    #'max_depth' : [3, 6, 9, 15]\n",
        "    'max_features' : [2, 3, 4, 5, 6]\n",
        "}\n",
        "base_estimator = RandomForestClassifier(random_state=1, n_jobs=-1)\n",
        "\n",
        "grid_search=GridSearchCV(base_estimator, param_grid=param_grid,\n",
        "                         cv=10, n_jobs=-1)"
      ],
      "metadata": {
        "id": "b4SmToonujsq"
      },
      "execution_count": 14,
      "outputs": []
    },
    {
      "cell_type": "code",
      "source": [
        "grid_search.fit(X_train, y_train)"
      ],
      "metadata": {
        "colab": {
          "base_uri": "https://localhost:8080/"
        },
        "id": "r19HQS_7w6H6",
        "outputId": "c46fe7e1-2103-4b5f-876f-bcc7829a2a62"
      },
      "execution_count": 15,
      "outputs": [
        {
          "output_type": "execute_result",
          "data": {
            "text/plain": [
              "GridSearchCV(cv=10, estimator=RandomForestClassifier(n_jobs=-1, random_state=1),\n",
              "             n_jobs=-1, param_grid={'max_features': [2, 3, 4, 5, 6]})"
            ]
          },
          "metadata": {},
          "execution_count": 15
        }
      ]
    },
    {
      "cell_type": "code",
      "source": [
        "print('Model score on train set:')\n",
        "print(grid_search.score(X_train, y_train))\n",
        "print('Model score on train set:')\n",
        "print(grid_search.score(X_val, y_val))"
      ],
      "metadata": {
        "colab": {
          "base_uri": "https://localhost:8080/"
        },
        "id": "LS__Ot3U0irp",
        "outputId": "49ac9db0-fa14-4afc-a5d0-b34736b64b78"
      },
      "execution_count": 16,
      "outputs": [
        {
          "output_type": "stream",
          "name": "stdout",
          "text": [
            "Model score on train set:\n",
            "1.0\n",
            "Model score on train set:\n",
            "0.7333333333333333\n"
          ]
        }
      ]
    },
    {
      "cell_type": "code",
      "source": [
        "grid_search.best_params_"
      ],
      "metadata": {
        "colab": {
          "base_uri": "https://localhost:8080/"
        },
        "id": "ch3Tp8mt-cZM",
        "outputId": "94265591-44bb-462e-a35f-9bca977fc72c"
      },
      "execution_count": 17,
      "outputs": [
        {
          "output_type": "execute_result",
          "data": {
            "text/plain": [
              "{'max_features': 6}"
            ]
          },
          "metadata": {},
          "execution_count": 17
        }
      ]
    },
    {
      "cell_type": "code",
      "source": [
        "RF_GS_1by1=RandomForestClassifier(n_estimators=200, max_depth=6, \n",
        "                                        max_features=6, criterion='entropy', \n",
        "                                        random_state=1, n_jobs=-1)\n",
        "RF_GS_1by1.fit(X_train, y_train)"
      ],
      "metadata": {
        "colab": {
          "base_uri": "https://localhost:8080/"
        },
        "id": "ZmK64t9ET1q1",
        "outputId": "75469b4c-d96b-4cf9-d931-367c02960d0f"
      },
      "execution_count": 32,
      "outputs": [
        {
          "output_type": "execute_result",
          "data": {
            "text/plain": [
              "RandomForestClassifier(criterion='entropy', max_depth=6, max_features=6,\n",
              "                       n_estimators=200, n_jobs=-1, random_state=1)"
            ]
          },
          "metadata": {},
          "execution_count": 32
        }
      ]
    },
    {
      "cell_type": "code",
      "source": [
        "print('Model score on train set:')\n",
        "print(RF_GS_1by1.score(X_train, y_train))\n",
        "print('Model score on train set:')\n",
        "print(RF_GS_1by1.score(X_val, y_val))"
      ],
      "metadata": {
        "colab": {
          "base_uri": "https://localhost:8080/"
        },
        "id": "ZbpsQk4_U5-a",
        "outputId": "30f6124e-be1e-4c39-e05a-430a0b08aa62"
      },
      "execution_count": 33,
      "outputs": [
        {
          "output_type": "stream",
          "name": "stdout",
          "text": [
            "Model score on train set:\n",
            "1.0\n",
            "Model score on train set:\n",
            "0.7333333333333333\n"
          ]
        }
      ]
    },
    {
      "cell_type": "code",
      "source": [
        "imp=RF_GS_1by1.feature_importances_\n",
        "RF_GS_1by1.feature_names_in_[imp.argsort()[-4:][::-1]]"
      ],
      "metadata": {
        "colab": {
          "base_uri": "https://localhost:8080/"
        },
        "id": "TzRx5_yXYpxL",
        "outputId": "41758156-9b31-42ca-e9dc-9b64d1361580"
      },
      "execution_count": 34,
      "outputs": [
        {
          "output_type": "execute_result",
          "data": {
            "text/plain": [
              "array(['hsa-miR-31*', 'hsa-miR-1291', 'hsa-miR-483-3p', 'hsa-miR-96*'],\n",
              "      dtype=object)"
            ]
          },
          "metadata": {},
          "execution_count": 34
        }
      ]
    },
    {
      "cell_type": "markdown",
      "source": [
        "## The best 3 miRs"
      ],
      "metadata": {
        "id": "dJeZglt1LFJc"
      }
    },
    {
      "cell_type": "code",
      "source": [
        "X_temp=df[['hsa-miR-31*', 'hsa-miR-1291', 'hsa-miR-483-3p']]\n",
        "y_temp=df['SD']\n",
        "X_train_val, X_test, y_train_val, y_test = train_test_split(X_temp, y_temp, test_size=0.25, random_state=1)\n",
        "X_train, X_val, y_train, y_val = train_test_split(X_train_val, y_train_val, test_size=0.25, random_state=1)"
      ],
      "metadata": {
        "id": "iu-gSwtqY_NE"
      },
      "execution_count": 47,
      "outputs": []
    },
    {
      "cell_type": "code",
      "source": [
        "RF2=RandomForestClassifier(random_state=1)\n",
        "RF2.fit(X_train, y_train)"
      ],
      "metadata": {
        "colab": {
          "base_uri": "https://localhost:8080/"
        },
        "outputId": "2eee6b81-bfd5-4ea5-b53d-645dd6f58533",
        "id": "2FqqI93uLC5_"
      },
      "execution_count": 48,
      "outputs": [
        {
          "output_type": "execute_result",
          "data": {
            "text/plain": [
              "RandomForestClassifier(random_state=1)"
            ]
          },
          "metadata": {},
          "execution_count": 48
        }
      ]
    },
    {
      "cell_type": "code",
      "source": [
        "print('Model score on train set:')\n",
        "print(RF2.score(X_train, y_train))\n",
        "print('Model score on train set:')\n",
        "\n",
        "print(RF2.score(X_val, y_val))"
      ],
      "metadata": {
        "colab": {
          "base_uri": "https://localhost:8080/"
        },
        "outputId": "6fc7c688-d50f-4214-f89a-fdb6b879bd6c",
        "id": "I_RxWlnGLC6C"
      },
      "execution_count": 49,
      "outputs": [
        {
          "output_type": "stream",
          "name": "stdout",
          "text": [
            "Model score on train set:\n",
            "1.0\n",
            "Model score on train set:\n",
            "0.7333333333333333\n"
          ]
        }
      ]
    },
    {
      "cell_type": "markdown",
      "source": [
        "# XGB"
      ],
      "metadata": {
        "id": "3L-iPugeARuE"
      }
    },
    {
      "cell_type": "code",
      "source": [
        ""
      ],
      "metadata": {
        "id": "SyzL48jZAUtb"
      },
      "execution_count": null,
      "outputs": []
    }
  ]
}